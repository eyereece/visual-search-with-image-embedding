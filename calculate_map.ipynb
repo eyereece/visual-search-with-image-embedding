{
 "cells": [
  {
   "cell_type": "code",
   "execution_count": 1,
   "metadata": {},
   "outputs": [],
   "source": [
    "import zipfile\n",
    "import gc\n",
    "import copy\n",
    "import pickle\n",
    "import time\n",
    "import scipy\n",
    "import cv2\n",
    "import torch\n",
    "import torchvision\n",
    "import faiss\n",
    "\n",
    "import numpy as np\n",
    "import pandas as pd\n",
    "import matplotlib.pyplot as plt\n",
    "import matplotlib.image as mpimg\n",
    "import torch.nn as nn\n",
    "import seaborn as sns\n",
    "\n",
    "from tqdm import tqdm\n",
    "from pathlib import Path\n",
    "from barbar import Bar\n",
    "from ast import literal_eval\n",
    "from PIL import Image, ImageDraw\n",
    "from torch.utils.data import DataLoader\n",
    "from torch.utils.data.dataset import Dataset\n",
    "from torchvision import transforms\n",
    "from torchsummary import summary\n",
    "\n",
    "from utils import display_image\n",
    "\n",
    "%matplotlib inline"
   ]
  },
  {
   "cell_type": "code",
   "execution_count": 2,
   "metadata": {},
   "outputs": [
    {
     "data": {
      "text/plain": [
       "device(type='cpu')"
      ]
     },
     "execution_count": 2,
     "metadata": {},
     "output_type": "execute_result"
    }
   ],
   "source": [
    "device = torch.device('cuda' if torch.cuda.is_available() else 'cpu')\n",
    "device"
   ]
  },
  {
   "cell_type": "code",
   "execution_count": 3,
   "metadata": {},
   "outputs": [],
   "source": [
    "index_df = pd.read_csv('./index_df.csv')"
   ]
  },
  {
   "cell_type": "code",
   "execution_count": 4,
   "metadata": {},
   "outputs": [
    {
     "data": {
      "text/html": [
       "<div>\n",
       "<style scoped>\n",
       "    .dataframe tbody tr th:only-of-type {\n",
       "        vertical-align: middle;\n",
       "    }\n",
       "\n",
       "    .dataframe tbody tr th {\n",
       "        vertical-align: top;\n",
       "    }\n",
       "\n",
       "    .dataframe thead th {\n",
       "        text-align: right;\n",
       "    }\n",
       "</style>\n",
       "<table border=\"1\" class=\"dataframe\">\n",
       "  <thead>\n",
       "    <tr style=\"text-align: right;\">\n",
       "      <th></th>\n",
       "      <th>filename</th>\n",
       "      <th>category</th>\n",
       "      <th>label_id</th>\n",
       "      <th>embeddings</th>\n",
       "    </tr>\n",
       "  </thead>\n",
       "  <tbody>\n",
       "    <tr>\n",
       "      <th>0</th>\n",
       "      <td>./index_images/4095f53b27865649ae4be89e739f1de...</td>\n",
       "      <td>Shirts</td>\n",
       "      <td>2</td>\n",
       "      <td>[2.123265027999878, 4.5380730628967285, 0.0, 5...</td>\n",
       "    </tr>\n",
       "  </tbody>\n",
       "</table>\n",
       "</div>"
      ],
      "text/plain": [
       "                                            filename category  label_id  \\\n",
       "0  ./index_images/4095f53b27865649ae4be89e739f1de...   Shirts         2   \n",
       "\n",
       "                                          embeddings  \n",
       "0  [2.123265027999878, 4.5380730628967285, 0.0, 5...  "
      ]
     },
     "execution_count": 4,
     "metadata": {},
     "output_type": "execute_result"
    }
   ],
   "source": [
    "index_df.head(1)"
   ]
  },
  {
   "cell_type": "code",
   "execution_count": 5,
   "metadata": {},
   "outputs": [],
   "source": [
    "with open(\"embeddings.pkl\", \"rb\") as file:\n",
    "    embeddings = pickle.load(file)"
   ]
  },
  {
   "cell_type": "code",
   "execution_count": 6,
   "metadata": {},
   "outputs": [
    {
     "data": {
      "text/plain": [
       "(512,)"
      ]
     },
     "execution_count": 6,
     "metadata": {},
     "output_type": "execute_result"
    }
   ],
   "source": [
    "embeddings[0].shape"
   ]
  },
  {
   "cell_type": "code",
   "execution_count": 10,
   "metadata": {},
   "outputs": [],
   "source": [
    "labels = index_df['category'].tolist()"
   ]
  },
  {
   "cell_type": "code",
   "execution_count": 11,
   "metadata": {},
   "outputs": [
    {
     "data": {
      "text/plain": [
       "12225"
      ]
     },
     "execution_count": 11,
     "metadata": {},
     "output_type": "execute_result"
    }
   ],
   "source": [
    "len(labels)"
   ]
  },
  {
   "cell_type": "code",
   "execution_count": 12,
   "metadata": {},
   "outputs": [],
   "source": [
    "shirt_df = index_df[index_df['category'] == 'Shirts'].copy()"
   ]
  },
  {
   "cell_type": "code",
   "execution_count": 16,
   "metadata": {},
   "outputs": [],
   "source": [
    "shirt_df['embeddings'] = shirt_df['embeddings'].apply(lambda x: torch.FloatTensor(x))\n",
    "shirt_emb = np.array(shirt_df['embeddings']).tolist()"
   ]
  },
  {
   "cell_type": "code",
   "execution_count": null,
   "metadata": {},
   "outputs": [],
   "source": [
    "shirt_emb[0]"
   ]
  },
  {
   "cell_type": "code",
   "execution_count": 28,
   "metadata": {},
   "outputs": [],
   "source": [
    "class ExactIndex():\n",
    "    def __init__(self, vectors, labels):\n",
    "        self.dimension = vectors.shape[1]\n",
    "        self.vectors = vectors.astype('float32')\n",
    "        self.labels = labels\n",
    "        self.build()\n",
    "\n",
    "    def build(self):\n",
    "        self.index = faiss.IndexFlatL2(self.dimension)\n",
    "        self.index.add(self.vectors)\n",
    "\n",
    "    def query(self, vectors, k=10):\n",
    "        distances, indices = self.index.search(vectors, k)\n",
    "        return [self.labels[i] for i in indices[0]]\n",
    "    \n",
    "    def save(self, filename):\n",
    "        faiss.write_index(self.index, filename)\n",
    "    \n",
    "    @classmethod\n",
    "    def load(cls, vectors, labels, filename):\n",
    "        instance = cls(vectors, labels)\n",
    "        instance.index = faiss.read_index(filename)\n",
    "        return instance\n"
   ]
  },
  {
   "cell_type": "code",
   "execution_count": 29,
   "metadata": {},
   "outputs": [
    {
     "data": {
      "text/plain": [
       "<bound method ExactIndex.build of <__main__.ExactIndex object at 0x2b3f7cdf0>>"
      ]
     },
     "execution_count": 29,
     "metadata": {},
     "output_type": "execute_result"
    }
   ],
   "source": [
    "flatIndex = ExactIndex(embeddings, labels)\n",
    "flatIndex.build"
   ]
  },
  {
   "cell_type": "markdown",
   "metadata": {},
   "source": [
    "Test Function on one item"
   ]
  },
  {
   "cell_type": "code",
   "execution_count": 31,
   "metadata": {},
   "outputs": [
    {
     "data": {
      "text/plain": [
       "['Shirts', 'Handbags', 'Hats', 'Scarves', 'Shirts']"
      ]
     },
     "execution_count": 31,
     "metadata": {},
     "output_type": "execute_result"
    }
   ],
   "source": [
    "query_vector = shirt_emb[0]\n",
    "query_vector = query_vector.reshape(1, -1)\n",
    "selected_nn = flatIndex.query(query_vector, k=5)\n",
    "selected_nn"
   ]
  },
  {
   "cell_type": "code",
   "execution_count": 32,
   "metadata": {},
   "outputs": [
    {
     "data": {
      "text/plain": [
       "0.4"
      ]
     },
     "execution_count": 32,
     "metadata": {},
     "output_type": "execute_result"
    }
   ],
   "source": [
    "true_p = 0\n",
    "false_p = 0\n",
    "\n",
    "for i in selected_nn:\n",
    "    if i == 'Shirts':\n",
    "        true_p += 1\n",
    "    else:\n",
    "        false_p += 1\n",
    "\n",
    "p_5 = true_p / (true_p + false_p)"
   ]
  },
  {
   "cell_type": "code",
   "execution_count": 34,
   "metadata": {},
   "outputs": [
    {
     "name": "stdout",
     "output_type": "stream",
     "text": [
      "mAP @ 5 for shirt: 0.5289999999999984\n"
     ]
    }
   ],
   "source": [
    "total_p5_shirt = []\n",
    "\n",
    "for q_vector in shirt_emb:\n",
    "    q_vector = q_vector.reshape(1, -1)\n",
    "    selected_nn = flatIndex.query(q_vector, k=5)\n",
    "    t_p = sum(1 for i in selected_nn if i == 'Shirts')\n",
    "    f_p = len(selected_nn) - t_p\n",
    "    p_5 = t_p / (t_p + f_p)\n",
    "    total_p5_shirt.append(p_5)\n",
    "\n",
    "mean_p5_shirt = sum(total_p5_shirt) / len(total_p5_shirt)\n",
    "print(f\"mAP @ 5 for shirt: {mean_p5_shirt}\")"
   ]
  },
  {
   "cell_type": "markdown",
   "metadata": {},
   "source": [
    "Calculate mAP@5 for all categories"
   ]
  },
  {
   "cell_type": "code",
   "execution_count": 35,
   "metadata": {},
   "outputs": [
    {
     "name": "stdout",
     "output_type": "stream",
     "text": [
      "mAP @ 5 for Shirts: 0.5289999999999984\n",
      "mAP @ 5 for Rings: 0.33731343283582066\n",
      "mAP @ 5 for Jewelry: 0.6257999999999996\n",
      "mAP @ 5 for Dresses: 0.6354\n",
      "mAP @ 5 for Handbags: 0.6281999999999995\n",
      "mAP @ 5 for Shoes: 0.6865999999999993\n",
      "mAP @ 5 for Skirts: 0.6539999999999999\n",
      "mAP @ 5 for Hats: 0.6876000000000004\n",
      "mAP @ 5 for Coats: 0.5966000000000005\n",
      "mAP @ 5 for Sunglasses: 0.8712389380530967\n",
      "mAP @ 5 for Belts: 0.3544303797468351\n",
      "mAP @ 5 for Pants: 0.8681999999999997\n",
      "mAP @ 5 for Shorts: 0.7206786850477197\n",
      "mAP @ 5 for Watches: 0.821189591078067\n",
      "mAP @ 5 for Scarves: 0.5427046263345185\n",
      "mAP @ 5 for Socks: 0.3186440677966098\n",
      "mAP @ 5 for Jumpsuits: 0.29677419354838713\n",
      "mAP @ 5 for Swimwear: 0.3565217391304348\n",
      "mAP @ 5 for Stockings: 0.225\n",
      "mAP @ 5 for Gloves: 0.19999999999999998\n",
      "mAP @ 5 for Neckties: 0.2\n",
      "Overall mAP@5: 0.5312331263605469\n"
     ]
    }
   ],
   "source": [
    "# Convert embeddings to float tensors\n",
    "index_df['embeddings'] = index_df['embeddings'].apply(lambda x: torch.FloatTensor(x))\n",
    "\n",
    "# Get unique categories\n",
    "unique_categories = index_df['category'].unique()\n",
    "\n",
    "# Initialize a dictionary to store mean_p5 for each category\n",
    "mean_p5_dict = {}\n",
    "\n",
    "# Loop through each category\n",
    "for category in unique_categories:\n",
    "    # Filter the df for the current category\n",
    "    category_df = index_df[index_df['category'] == category].copy()\n",
    "\n",
    "    # Convert embeddings to a list of np arrays\n",
    "    category_emb = np.array(category_df['embeddings']).tolist()\n",
    "\n",
    "    # Calculate mAP@5 for the current category\n",
    "    total_p5_category = []\n",
    "    for q_vector in category_emb:\n",
    "        q_vector = q_vector.reshape(1, -1)\n",
    "        selected_nn = flatIndex.query(q_vector, k=5)\n",
    "        t_p = sum(1 for i in selected_nn if i == category)\n",
    "        f_p = len(selected_nn) - t_p\n",
    "        p_5 = t_p / (t_p + f_p)\n",
    "        total_p5_category.append(p_5)\n",
    "\n",
    "    # Calculate the mean_p5 for the current category\n",
    "    mean_p5_category = sum(total_p5_category) / len(total_p5_category)\n",
    "\n",
    "    # Store the mean_p5 in the dict\n",
    "    mean_p5_dict[category] = mean_p5_category\n",
    "\n",
    "# Calculate overall mean_p5\n",
    "overall_mean_p5 = sum(mean_p5_dict.values()) / len(mean_p5_dict)\n",
    "\n",
    "# Print results\n",
    "for category, mean_p5_category in mean_p5_dict.items():\n",
    "    print(f\"mAP @ 5 for {category}: {mean_p5_category}\")\n",
    "\n",
    "print(f\"Overall mAP@5: {overall_mean_p5}\")"
   ]
  },
  {
   "cell_type": "code",
   "execution_count": 36,
   "metadata": {},
   "outputs": [
    {
     "data": {
      "text/html": [
       "<div>\n",
       "<style scoped>\n",
       "    .dataframe tbody tr th:only-of-type {\n",
       "        vertical-align: middle;\n",
       "    }\n",
       "\n",
       "    .dataframe tbody tr th {\n",
       "        vertical-align: top;\n",
       "    }\n",
       "\n",
       "    .dataframe thead th {\n",
       "        text-align: right;\n",
       "    }\n",
       "</style>\n",
       "<table border=\"1\" class=\"dataframe\">\n",
       "  <thead>\n",
       "    <tr style=\"text-align: right;\">\n",
       "      <th></th>\n",
       "      <th>Category</th>\n",
       "      <th>mAP@5</th>\n",
       "    </tr>\n",
       "  </thead>\n",
       "  <tbody>\n",
       "    <tr>\n",
       "      <th>0</th>\n",
       "      <td>Shirts</td>\n",
       "      <td>0.529000</td>\n",
       "    </tr>\n",
       "    <tr>\n",
       "      <th>1</th>\n",
       "      <td>Rings</td>\n",
       "      <td>0.337313</td>\n",
       "    </tr>\n",
       "    <tr>\n",
       "      <th>2</th>\n",
       "      <td>Jewelry</td>\n",
       "      <td>0.625800</td>\n",
       "    </tr>\n",
       "    <tr>\n",
       "      <th>3</th>\n",
       "      <td>Dresses</td>\n",
       "      <td>0.635400</td>\n",
       "    </tr>\n",
       "    <tr>\n",
       "      <th>4</th>\n",
       "      <td>Handbags</td>\n",
       "      <td>0.628200</td>\n",
       "    </tr>\n",
       "    <tr>\n",
       "      <th>5</th>\n",
       "      <td>Shoes</td>\n",
       "      <td>0.686600</td>\n",
       "    </tr>\n",
       "    <tr>\n",
       "      <th>6</th>\n",
       "      <td>Skirts</td>\n",
       "      <td>0.654000</td>\n",
       "    </tr>\n",
       "    <tr>\n",
       "      <th>7</th>\n",
       "      <td>Hats</td>\n",
       "      <td>0.687600</td>\n",
       "    </tr>\n",
       "    <tr>\n",
       "      <th>8</th>\n",
       "      <td>Coats</td>\n",
       "      <td>0.596600</td>\n",
       "    </tr>\n",
       "    <tr>\n",
       "      <th>9</th>\n",
       "      <td>Sunglasses</td>\n",
       "      <td>0.871239</td>\n",
       "    </tr>\n",
       "    <tr>\n",
       "      <th>10</th>\n",
       "      <td>Belts</td>\n",
       "      <td>0.354430</td>\n",
       "    </tr>\n",
       "    <tr>\n",
       "      <th>11</th>\n",
       "      <td>Pants</td>\n",
       "      <td>0.868200</td>\n",
       "    </tr>\n",
       "    <tr>\n",
       "      <th>12</th>\n",
       "      <td>Shorts</td>\n",
       "      <td>0.720679</td>\n",
       "    </tr>\n",
       "    <tr>\n",
       "      <th>13</th>\n",
       "      <td>Watches</td>\n",
       "      <td>0.821190</td>\n",
       "    </tr>\n",
       "    <tr>\n",
       "      <th>14</th>\n",
       "      <td>Scarves</td>\n",
       "      <td>0.542705</td>\n",
       "    </tr>\n",
       "    <tr>\n",
       "      <th>15</th>\n",
       "      <td>Socks</td>\n",
       "      <td>0.318644</td>\n",
       "    </tr>\n",
       "    <tr>\n",
       "      <th>16</th>\n",
       "      <td>Jumpsuits</td>\n",
       "      <td>0.296774</td>\n",
       "    </tr>\n",
       "    <tr>\n",
       "      <th>17</th>\n",
       "      <td>Swimwear</td>\n",
       "      <td>0.356522</td>\n",
       "    </tr>\n",
       "    <tr>\n",
       "      <th>18</th>\n",
       "      <td>Stockings</td>\n",
       "      <td>0.225000</td>\n",
       "    </tr>\n",
       "    <tr>\n",
       "      <th>19</th>\n",
       "      <td>Gloves</td>\n",
       "      <td>0.200000</td>\n",
       "    </tr>\n",
       "    <tr>\n",
       "      <th>20</th>\n",
       "      <td>Neckties</td>\n",
       "      <td>0.200000</td>\n",
       "    </tr>\n",
       "    <tr>\n",
       "      <th>21</th>\n",
       "      <td>Overall</td>\n",
       "      <td>0.531233</td>\n",
       "    </tr>\n",
       "  </tbody>\n",
       "</table>\n",
       "</div>"
      ],
      "text/plain": [
       "      Category     mAP@5\n",
       "0       Shirts  0.529000\n",
       "1        Rings  0.337313\n",
       "2      Jewelry  0.625800\n",
       "3      Dresses  0.635400\n",
       "4     Handbags  0.628200\n",
       "5        Shoes  0.686600\n",
       "6       Skirts  0.654000\n",
       "7         Hats  0.687600\n",
       "8        Coats  0.596600\n",
       "9   Sunglasses  0.871239\n",
       "10       Belts  0.354430\n",
       "11       Pants  0.868200\n",
       "12      Shorts  0.720679\n",
       "13     Watches  0.821190\n",
       "14     Scarves  0.542705\n",
       "15       Socks  0.318644\n",
       "16   Jumpsuits  0.296774\n",
       "17    Swimwear  0.356522\n",
       "18   Stockings  0.225000\n",
       "19      Gloves  0.200000\n",
       "20    Neckties  0.200000\n",
       "21     Overall  0.531233"
      ]
     },
     "execution_count": 36,
     "metadata": {},
     "output_type": "execute_result"
    }
   ],
   "source": [
    "mean_p5_dict['Overall'] = np.mean(list(mean_p5_dict.values()))\n",
    "map5_result = pd.DataFrame(list(mean_p5_dict.items()), columns=['Category', 'mAP@5'])\n",
    "map5_result"
   ]
  },
  {
   "cell_type": "code",
   "execution_count": 37,
   "metadata": {},
   "outputs": [],
   "source": [
    "map5_result.to_csv('map5_result.csv', index=False)"
   ]
  },
  {
   "cell_type": "code",
   "execution_count": 7,
   "metadata": {},
   "outputs": [],
   "source": [
    "map5_result = pd.read_csv('./map5_result.csv')"
   ]
  },
  {
   "cell_type": "code",
   "execution_count": 11,
   "metadata": {},
   "outputs": [],
   "source": [
    "# Find the index of the row where 'Category' is 'Overall'\n",
    "index_to_rename = map5_result[map5_result['Category'] == 'Overall'].index[0]\n",
    "\n",
    "# Rename the cell\n",
    "map5_result.at[index_to_rename, 'Category'] = 'All'"
   ]
  },
  {
   "cell_type": "code",
   "execution_count": 12,
   "metadata": {},
   "outputs": [],
   "source": [
    "map5_result = map5_result.sort_values(by='Category')"
   ]
  },
  {
   "cell_type": "code",
   "execution_count": 13,
   "metadata": {},
   "outputs": [
    {
     "data": {
      "text/html": [
       "<div>\n",
       "<style scoped>\n",
       "    .dataframe tbody tr th:only-of-type {\n",
       "        vertical-align: middle;\n",
       "    }\n",
       "\n",
       "    .dataframe tbody tr th {\n",
       "        vertical-align: top;\n",
       "    }\n",
       "\n",
       "    .dataframe thead th {\n",
       "        text-align: right;\n",
       "    }\n",
       "</style>\n",
       "<table border=\"1\" class=\"dataframe\">\n",
       "  <thead>\n",
       "    <tr style=\"text-align: right;\">\n",
       "      <th></th>\n",
       "      <th>Category</th>\n",
       "      <th>mAP@5</th>\n",
       "    </tr>\n",
       "  </thead>\n",
       "  <tbody>\n",
       "    <tr>\n",
       "      <th>21</th>\n",
       "      <td>All</td>\n",
       "      <td>0.531233</td>\n",
       "    </tr>\n",
       "    <tr>\n",
       "      <th>10</th>\n",
       "      <td>Belts</td>\n",
       "      <td>0.354430</td>\n",
       "    </tr>\n",
       "    <tr>\n",
       "      <th>8</th>\n",
       "      <td>Coats</td>\n",
       "      <td>0.596600</td>\n",
       "    </tr>\n",
       "    <tr>\n",
       "      <th>3</th>\n",
       "      <td>Dresses</td>\n",
       "      <td>0.635400</td>\n",
       "    </tr>\n",
       "    <tr>\n",
       "      <th>19</th>\n",
       "      <td>Gloves</td>\n",
       "      <td>0.200000</td>\n",
       "    </tr>\n",
       "    <tr>\n",
       "      <th>4</th>\n",
       "      <td>Handbags</td>\n",
       "      <td>0.628200</td>\n",
       "    </tr>\n",
       "    <tr>\n",
       "      <th>7</th>\n",
       "      <td>Hats</td>\n",
       "      <td>0.687600</td>\n",
       "    </tr>\n",
       "    <tr>\n",
       "      <th>2</th>\n",
       "      <td>Jewelry</td>\n",
       "      <td>0.625800</td>\n",
       "    </tr>\n",
       "    <tr>\n",
       "      <th>16</th>\n",
       "      <td>Jumpsuits</td>\n",
       "      <td>0.296774</td>\n",
       "    </tr>\n",
       "    <tr>\n",
       "      <th>20</th>\n",
       "      <td>Neckties</td>\n",
       "      <td>0.200000</td>\n",
       "    </tr>\n",
       "    <tr>\n",
       "      <th>11</th>\n",
       "      <td>Pants</td>\n",
       "      <td>0.868200</td>\n",
       "    </tr>\n",
       "    <tr>\n",
       "      <th>1</th>\n",
       "      <td>Rings</td>\n",
       "      <td>0.337313</td>\n",
       "    </tr>\n",
       "    <tr>\n",
       "      <th>14</th>\n",
       "      <td>Scarves</td>\n",
       "      <td>0.542705</td>\n",
       "    </tr>\n",
       "    <tr>\n",
       "      <th>0</th>\n",
       "      <td>Shirts</td>\n",
       "      <td>0.529000</td>\n",
       "    </tr>\n",
       "    <tr>\n",
       "      <th>5</th>\n",
       "      <td>Shoes</td>\n",
       "      <td>0.686600</td>\n",
       "    </tr>\n",
       "    <tr>\n",
       "      <th>12</th>\n",
       "      <td>Shorts</td>\n",
       "      <td>0.720679</td>\n",
       "    </tr>\n",
       "    <tr>\n",
       "      <th>6</th>\n",
       "      <td>Skirts</td>\n",
       "      <td>0.654000</td>\n",
       "    </tr>\n",
       "    <tr>\n",
       "      <th>15</th>\n",
       "      <td>Socks</td>\n",
       "      <td>0.318644</td>\n",
       "    </tr>\n",
       "    <tr>\n",
       "      <th>18</th>\n",
       "      <td>Stockings</td>\n",
       "      <td>0.225000</td>\n",
       "    </tr>\n",
       "    <tr>\n",
       "      <th>9</th>\n",
       "      <td>Sunglasses</td>\n",
       "      <td>0.871239</td>\n",
       "    </tr>\n",
       "    <tr>\n",
       "      <th>17</th>\n",
       "      <td>Swimwear</td>\n",
       "      <td>0.356522</td>\n",
       "    </tr>\n",
       "    <tr>\n",
       "      <th>13</th>\n",
       "      <td>Watches</td>\n",
       "      <td>0.821190</td>\n",
       "    </tr>\n",
       "  </tbody>\n",
       "</table>\n",
       "</div>"
      ],
      "text/plain": [
       "      Category     mAP@5\n",
       "21         All  0.531233\n",
       "10       Belts  0.354430\n",
       "8        Coats  0.596600\n",
       "3      Dresses  0.635400\n",
       "19      Gloves  0.200000\n",
       "4     Handbags  0.628200\n",
       "7         Hats  0.687600\n",
       "2      Jewelry  0.625800\n",
       "16   Jumpsuits  0.296774\n",
       "20    Neckties  0.200000\n",
       "11       Pants  0.868200\n",
       "1        Rings  0.337313\n",
       "14     Scarves  0.542705\n",
       "0       Shirts  0.529000\n",
       "5        Shoes  0.686600\n",
       "12      Shorts  0.720679\n",
       "6       Skirts  0.654000\n",
       "15       Socks  0.318644\n",
       "18   Stockings  0.225000\n",
       "9   Sunglasses  0.871239\n",
       "17    Swimwear  0.356522\n",
       "13     Watches  0.821190"
      ]
     },
     "execution_count": 13,
     "metadata": {},
     "output_type": "execute_result"
    }
   ],
   "source": [
    "map5_result"
   ]
  },
  {
   "cell_type": "code",
   "execution_count": 8,
   "metadata": {},
   "outputs": [],
   "source": [
    "import seaborn as sns"
   ]
  },
  {
   "cell_type": "code",
   "execution_count": 14,
   "metadata": {},
   "outputs": [
    {
     "name": "stderr",
     "output_type": "stream",
     "text": [
      "/Users/joankusuma/miniconda3/envs/ml/lib/python3.9/site-packages/seaborn/_oldcore.py:1498: FutureWarning: is_categorical_dtype is deprecated and will be removed in a future version. Use isinstance(dtype, CategoricalDtype) instead\n",
      "  if pd.api.types.is_categorical_dtype(vector):\n",
      "/Users/joankusuma/miniconda3/envs/ml/lib/python3.9/site-packages/seaborn/_oldcore.py:1498: FutureWarning: is_categorical_dtype is deprecated and will be removed in a future version. Use isinstance(dtype, CategoricalDtype) instead\n",
      "  if pd.api.types.is_categorical_dtype(vector):\n",
      "/Users/joankusuma/miniconda3/envs/ml/lib/python3.9/site-packages/seaborn/_oldcore.py:1498: FutureWarning: is_categorical_dtype is deprecated and will be removed in a future version. Use isinstance(dtype, CategoricalDtype) instead\n",
      "  if pd.api.types.is_categorical_dtype(vector):\n"
     ]
    },
    {
     "data": {
      "image/png": "[encoded data removed]",
      "text/plain": [
       "<Figure size 1000x600 with 1 Axes>"
      ]
     },
     "metadata": {},
     "output_type": "display_data"
    }
   ],
   "source": [
    "# Visualize plot\n",
    "sns.set(style=\"whitegrid\")\n",
    "\n",
    "# Create bar plot\n",
    "plt.figure(figsize=(10, 6))\n",
    "sns.barplot(x='Category', y=\"mAP@5\", data=map5_result)\n",
    "plt.xticks(rotation=45, ha='right')\n",
    "plt.title('mAP@5 for different categories (512-d)')\n",
    "plt.show()"
   ]
  },
  {
   "cell_type": "code",
   "execution_count": 2,
   "metadata": {},
   "outputs": [
    {
     "data": {
      "text/html": [
       "<div>\n",
       "<style scoped>\n",
       "    .dataframe tbody tr th:only-of-type {\n",
       "        vertical-align: middle;\n",
       "    }\n",
       "\n",
       "    .dataframe tbody tr th {\n",
       "        vertical-align: top;\n",
       "    }\n",
       "\n",
       "    .dataframe thead th {\n",
       "        text-align: right;\n",
       "    }\n",
       "</style>\n",
       "<table border=\"1\" class=\"dataframe\">\n",
       "  <thead>\n",
       "    <tr style=\"text-align: right;\">\n",
       "      <th></th>\n",
       "      <th>filename</th>\n",
       "      <th>category</th>\n",
       "      <th>label_id</th>\n",
       "      <th>embeddings</th>\n",
       "    </tr>\n",
       "  </thead>\n",
       "  <tbody>\n",
       "    <tr>\n",
       "      <th>0</th>\n",
       "      <td>./index_images/4095f53b27865649ae4be89e739f1de...</td>\n",
       "      <td>Shirts</td>\n",
       "      <td>2</td>\n",
       "      <td>[2.123265027999878, 4.5380730628967285, 0.0, 5...</td>\n",
       "    </tr>\n",
       "    <tr>\n",
       "      <th>1</th>\n",
       "      <td>./index_images/2a4c9a21b6302fb76ae9aa28235094b...</td>\n",
       "      <td>Shirts</td>\n",
       "      <td>2</td>\n",
       "      <td>[2.659057855606079, 3.771310567855835, 1.27047...</td>\n",
       "    </tr>\n",
       "    <tr>\n",
       "      <th>2</th>\n",
       "      <td>./index_images/bfcc15c4bd74347bb6336d266ace2a7...</td>\n",
       "      <td>Shirts</td>\n",
       "      <td>2</td>\n",
       "      <td>[0.3487861454486847, 4.077633380889893, 2.0920...</td>\n",
       "    </tr>\n",
       "    <tr>\n",
       "      <th>3</th>\n",
       "      <td>./index_images/cf880237d3e9683803d4a8a23fa456d...</td>\n",
       "      <td>Shirts</td>\n",
       "      <td>2</td>\n",
       "      <td>[0.9752116799354553, 0.0, 1.9928834438323975, ...</td>\n",
       "    </tr>\n",
       "    <tr>\n",
       "      <th>4</th>\n",
       "      <td>./index_images/d02f63672742c9efd5838017f46931f...</td>\n",
       "      <td>Shirts</td>\n",
       "      <td>2</td>\n",
       "      <td>[12.112330436706543, 2.8348710536956787, 7.798...</td>\n",
       "    </tr>\n",
       "  </tbody>\n",
       "</table>\n",
       "</div>"
      ],
      "text/plain": [
       "                                            filename category  label_id  \\\n",
       "0  ./index_images/4095f53b27865649ae4be89e739f1de...   Shirts         2   \n",
       "1  ./index_images/2a4c9a21b6302fb76ae9aa28235094b...   Shirts         2   \n",
       "2  ./index_images/bfcc15c4bd74347bb6336d266ace2a7...   Shirts         2   \n",
       "3  ./index_images/cf880237d3e9683803d4a8a23fa456d...   Shirts         2   \n",
       "4  ./index_images/d02f63672742c9efd5838017f46931f...   Shirts         2   \n",
       "\n",
       "                                          embeddings  \n",
       "0  [2.123265027999878, 4.5380730628967285, 0.0, 5...  \n",
       "1  [2.659057855606079, 3.771310567855835, 1.27047...  \n",
       "2  [0.3487861454486847, 4.077633380889893, 2.0920...  \n",
       "3  [0.9752116799354553, 0.0, 1.9928834438323975, ...  \n",
       "4  [12.112330436706543, 2.8348710536956787, 7.798...  "
      ]
     },
     "execution_count": 2,
     "metadata": {},
     "output_type": "execute_result"
    }
   ],
   "source": [
    "index_df = pd.read_csv('./index_df.csv')\n",
    "index_df.head()"
   ]
  },
  {
   "cell_type": "code",
   "execution_count": 4,
   "metadata": {},
   "outputs": [
    {
     "data": {
      "text/html": [
       "<div>\n",
       "<style scoped>\n",
       "    .dataframe tbody tr th:only-of-type {\n",
       "        vertical-align: middle;\n",
       "    }\n",
       "\n",
       "    .dataframe tbody tr th {\n",
       "        vertical-align: top;\n",
       "    }\n",
       "\n",
       "    .dataframe thead th {\n",
       "        text-align: right;\n",
       "    }\n",
       "</style>\n",
       "<table border=\"1\" class=\"dataframe\">\n",
       "  <thead>\n",
       "    <tr style=\"text-align: right;\">\n",
       "      <th></th>\n",
       "      <th>category</th>\n",
       "      <th>count</th>\n",
       "    </tr>\n",
       "  </thead>\n",
       "  <tbody>\n",
       "    <tr>\n",
       "      <th>13</th>\n",
       "      <td>Belts</td>\n",
       "      <td>79</td>\n",
       "    </tr>\n",
       "    <tr>\n",
       "      <th>7</th>\n",
       "      <td>Coats</td>\n",
       "      <td>1000</td>\n",
       "    </tr>\n",
       "    <tr>\n",
       "      <th>2</th>\n",
       "      <td>Dresses</td>\n",
       "      <td>1000</td>\n",
       "    </tr>\n",
       "    <tr>\n",
       "      <th>18</th>\n",
       "      <td>Gloves</td>\n",
       "      <td>10</td>\n",
       "    </tr>\n",
       "    <tr>\n",
       "      <th>3</th>\n",
       "      <td>Handbags</td>\n",
       "      <td>1000</td>\n",
       "    </tr>\n",
       "    <tr>\n",
       "      <th>6</th>\n",
       "      <td>Hats</td>\n",
       "      <td>1000</td>\n",
       "    </tr>\n",
       "    <tr>\n",
       "      <th>1</th>\n",
       "      <td>Jewelry</td>\n",
       "      <td>1000</td>\n",
       "    </tr>\n",
       "    <tr>\n",
       "      <th>16</th>\n",
       "      <td>Jumpsuits</td>\n",
       "      <td>31</td>\n",
       "    </tr>\n",
       "    <tr>\n",
       "      <th>20</th>\n",
       "      <td>Neckties</td>\n",
       "      <td>1</td>\n",
       "    </tr>\n",
       "    <tr>\n",
       "      <th>8</th>\n",
       "      <td>Pants</td>\n",
       "      <td>1000</td>\n",
       "    </tr>\n",
       "    <tr>\n",
       "      <th>14</th>\n",
       "      <td>Rings</td>\n",
       "      <td>67</td>\n",
       "    </tr>\n",
       "    <tr>\n",
       "      <th>11</th>\n",
       "      <td>Scarves</td>\n",
       "      <td>562</td>\n",
       "    </tr>\n",
       "    <tr>\n",
       "      <th>0</th>\n",
       "      <td>Shirts</td>\n",
       "      <td>1000</td>\n",
       "    </tr>\n",
       "    <tr>\n",
       "      <th>4</th>\n",
       "      <td>Shoes</td>\n",
       "      <td>1000</td>\n",
       "    </tr>\n",
       "    <tr>\n",
       "      <th>9</th>\n",
       "      <td>Shorts</td>\n",
       "      <td>943</td>\n",
       "    </tr>\n",
       "    <tr>\n",
       "      <th>5</th>\n",
       "      <td>Skirts</td>\n",
       "      <td>1000</td>\n",
       "    </tr>\n",
       "    <tr>\n",
       "      <th>15</th>\n",
       "      <td>Socks</td>\n",
       "      <td>59</td>\n",
       "    </tr>\n",
       "    <tr>\n",
       "      <th>19</th>\n",
       "      <td>Stockings</td>\n",
       "      <td>8</td>\n",
       "    </tr>\n",
       "    <tr>\n",
       "      <th>10</th>\n",
       "      <td>Sunglasses</td>\n",
       "      <td>904</td>\n",
       "    </tr>\n",
       "    <tr>\n",
       "      <th>17</th>\n",
       "      <td>Swimwear</td>\n",
       "      <td>23</td>\n",
       "    </tr>\n",
       "    <tr>\n",
       "      <th>12</th>\n",
       "      <td>Watches</td>\n",
       "      <td>538</td>\n",
       "    </tr>\n",
       "  </tbody>\n",
       "</table>\n",
       "</div>"
      ],
      "text/plain": [
       "      category  count\n",
       "13       Belts     79\n",
       "7        Coats   1000\n",
       "2      Dresses   1000\n",
       "18      Gloves     10\n",
       "3     Handbags   1000\n",
       "6         Hats   1000\n",
       "1      Jewelry   1000\n",
       "16   Jumpsuits     31\n",
       "20    Neckties      1\n",
       "8        Pants   1000\n",
       "14       Rings     67\n",
       "11     Scarves    562\n",
       "0       Shirts   1000\n",
       "4        Shoes   1000\n",
       "9       Shorts    943\n",
       "5       Skirts   1000\n",
       "15       Socks     59\n",
       "19   Stockings      8\n",
       "10  Sunglasses    904\n",
       "17    Swimwear     23\n",
       "12     Watches    538"
      ]
     },
     "execution_count": 4,
     "metadata": {},
     "output_type": "execute_result"
    }
   ],
   "source": [
    "cat_counts = index_df['category'].value_counts().reset_index()\n",
    "cat_counts.columns = ['category', 'count']\n",
    "cat_counts = cat_counts.sort_values(by='category')\n",
    "cat_counts"
   ]
  },
  {
   "cell_type": "code",
   "execution_count": 6,
   "metadata": {},
   "outputs": [
    {
     "name": "stderr",
     "output_type": "stream",
     "text": [
      "/Users/joankusuma/miniconda3/envs/ml/lib/python3.9/site-packages/seaborn/_oldcore.py:1498: FutureWarning: is_categorical_dtype is deprecated and will be removed in a future version. Use isinstance(dtype, CategoricalDtype) instead\n",
      "  if pd.api.types.is_categorical_dtype(vector):\n",
      "/Users/joankusuma/miniconda3/envs/ml/lib/python3.9/site-packages/seaborn/_oldcore.py:1498: FutureWarning: is_categorical_dtype is deprecated and will be removed in a future version. Use isinstance(dtype, CategoricalDtype) instead\n",
      "  if pd.api.types.is_categorical_dtype(vector):\n",
      "/Users/joankusuma/miniconda3/envs/ml/lib/python3.9/site-packages/seaborn/_oldcore.py:1498: FutureWarning: is_categorical_dtype is deprecated and will be removed in a future version. Use isinstance(dtype, CategoricalDtype) instead\n",
      "  if pd.api.types.is_categorical_dtype(vector):\n"
     ]
    },
    {
     "data": {
      "image/png": "[encoded data removed]",
      "text/plain": [
       "<Figure size 1000x600 with 1 Axes>"
      ]
     },
     "metadata": {},
     "output_type": "display_data"
    }
   ],
   "source": [
    "# Visualize count\n",
    "plt.figure(figsize=(10, 6))\n",
    "sns.barplot(data=cat_counts, x='category', y='count')\n",
    "plt.xlabel('Categories')\n",
    "plt.ylabel('Total')\n",
    "plt.title('Class Distribution in the Product Index (512-d)')\n",
    "plt.xticks(rotation=45)\n",
    "plt.show()"
   ]
  },
  {
   "cell_type": "code",
   "execution_count": null,
   "metadata": {},
   "outputs": [],
   "source": []
  }
 ],
 "metadata": {
  "kernelspec": {
   "display_name": "ml",
   "language": "python",
   "name": "python3"
  },
  "language_info": {
   "codemirror_mode": {
    "name": "ipython",
    "version": 3
   },
   "file_extension": ".py",
   "mimetype": "text/x-python",
   "name": "python",
   "nbconvert_exporter": "python",
   "pygments_lexer": "ipython3",
   "version": "3.9.18"
  },
  "orig_nbformat": 4
 },
 "nbformat": 4,
 "nbformat_minor": 2
}
